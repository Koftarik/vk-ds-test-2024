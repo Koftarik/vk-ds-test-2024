{
  "nbformat": 4,
  "nbformat_minor": 0,
  "metadata": {
    "colab": {
      "provenance": []
    },
    "kernelspec": {
      "name": "python3",
      "display_name": "Python 3"
    },
    "language_info": {
      "name": "python"
    }
  },
  "cells": [
    {
      "cell_type": "code",
      "execution_count": 1,
      "metadata": {
        "id": "veB4ocoMMkAr"
      },
      "outputs": [],
      "source": [
        "import pandas as pd\n",
        "\n",
        "test = pd.read_parquet('data/test.parquet')"
      ]
    },
    {
      "cell_type": "code",
      "source": [
        "import numpy as np\n",
        "\n",
        "# Функция для преобразования массива значений в список чисел (если это необходимо)\n",
        "def convert_to_float_list(values):\n",
        "    if isinstance(values, str):  # Если данные представлены как строка\n",
        "        return list(map(float, values.strip('[]').split(',')))\n",
        "    elif isinstance(values, np.ndarray):  # Если данные уже массив\n",
        "        return values.tolist()\n",
        "    else:\n",
        "        return values  # Оставляем как есть, если это уже список\n",
        "\n",
        "# Применяем преобразование к 'values'\n",
        "test['values'] = test['values'].apply(convert_to_float_list)"
      ],
      "metadata": {
        "id": "22Cmq53gMn0t"
      },
      "execution_count": 2,
      "outputs": []
    },
    {
      "cell_type": "code",
      "source": [
        "import numpy as np\n",
        "import pandas as pd\n",
        "from scipy.stats import kurtosis\n",
        "\n",
        "# Функция для генерации признаков на основе временного ряда\n",
        "def generate_features(data):\n",
        "    features = pd.DataFrame()\n",
        "    features['id'] = data['id']\n",
        "\n",
        "    # Рассчитываем статистические признаки\n",
        "    features['mean'] = data['values'].apply(np.mean)\n",
        "    features['std'] = data['values'].apply(np.std)  # Оставляем std вместо variance\n",
        "    features['min'] = data['values'].apply(np.min)\n",
        "    features['max'] = data['values'].apply(np.max)\n",
        "    features['median'] = data['values'].apply(np.median)\n",
        "\n",
        "    # Дополнительные статистические признаки\n",
        "    features['kurtosis'] = data['values'].apply(lambda x: kurtosis(x) if len(x) > 1 else 0)  # Куртозис\n",
        "\n",
        "    # Автокорреляция с лагом 1\n",
        "    features['autocorr'] = data['values'].apply(lambda x: pd.Series(x).autocorr(lag=1))\n",
        "\n",
        "    # Размах (Range)\n",
        "    features['range'] = features['max'] - features['min']\n",
        "\n",
        "\n",
        "    # Количество пиков (локальные максимумы)\n",
        "    features['peaks'] = data['values'].apply(lambda x: len(pd.Series(x).diff().fillna(0).ge(0).astype(int).diff().fillna(0).lt(0)))\n",
        "    # Лаговые признаки\n",
        "    for lag in range(1, 4):\n",
        "        features[f'lag_{lag}'] = data['values'].apply(lambda x: x[-lag] if len(x) > lag else np.nan)\n",
        "\n",
        "    # Скользящие статистики\n",
        "    features['rolling_mean'] = data['values'].apply(lambda x: pd.Series(x).rolling(window=3).mean().iloc[-1])\n",
        "    features['rolling_std'] = data['values'].apply(lambda x: pd.Series(x).rolling(window=3).std().iloc[-1])\n",
        "\n",
        "    return features\n",
        "\n",
        "# Генерация признаков для тестовой выборки\n",
        "\n",
        "test_features = generate_features(test)"
      ],
      "metadata": {
        "colab": {
          "base_uri": "https://localhost:8080/"
        },
        "id": "QLMCo5tEMtrC",
        "outputId": "ae0d699c-5c83-4a31-c9d1-2f8a884e28f9"
      },
      "execution_count": 7,
      "outputs": [
        {
          "output_type": "stream",
          "name": "stderr",
          "text": [
            "/usr/local/lib/python3.10/dist-packages/numpy/lib/function_base.py:2897: RuntimeWarning: invalid value encountered in divide\n",
            "  c /= stddev[:, None]\n",
            "/usr/local/lib/python3.10/dist-packages/numpy/lib/function_base.py:2898: RuntimeWarning: invalid value encountered in divide\n",
            "  c /= stddev[None, :]\n"
          ]
        }
      ]
    },
    {
      "cell_type": "code",
      "source": [
        "!pip install catboost -q"
      ],
      "metadata": {
        "colab": {
          "base_uri": "https://localhost:8080/"
        },
        "id": "XH-314crN_eY",
        "outputId": "8d6c92f0-36d4-47dc-8ce4-4a4a9d09e6e7"
      },
      "execution_count": 4,
      "outputs": [
        {
          "output_type": "stream",
          "name": "stdout",
          "text": [
            "\u001b[2K   \u001b[90m━━━━━━━━━━━━━━━━━━━━━━━━━━━━━━━━━━━━━━━━\u001b[0m \u001b[32m98.7/98.7 MB\u001b[0m \u001b[31m8.2 MB/s\u001b[0m eta \u001b[36m0:00:00\u001b[0m\n",
            "\u001b[?25h"
          ]
        }
      ]
    },
    {
      "cell_type": "code",
      "source": [
        "from catboost import CatBoostClassifier\n",
        "\n",
        "# Создание экземпляра модели\n",
        "loaded_model = CatBoostClassifier()\n",
        "\n",
        "# Загрузка модели\n",
        "loaded_model.load_model('model/catboost_model.cbm')"
      ],
      "metadata": {
        "colab": {
          "base_uri": "https://localhost:8080/"
        },
        "id": "aQfVs-uFMv2u",
        "outputId": "8240d2bd-c4ef-47c9-a491-ea5e836deb57"
      },
      "execution_count": 5,
      "outputs": [
        {
          "output_type": "execute_result",
          "data": {
            "text/plain": [
              "<catboost.core.CatBoostClassifier at 0x7a0b9cdf0a60>"
            ]
          },
          "metadata": {},
          "execution_count": 5
        }
      ]
    },
    {
      "cell_type": "code",
      "source": [
        "# Предсказание на тестовых данных\n",
        "test_preds = loaded_model.predict_proba(test_features.drop(columns=['id']))[:, 1]\n",
        "\n",
        "# Создаем DataFrame для submission\n",
        "submission = pd.DataFrame({\n",
        "    'id': test_features['id'],\n",
        "    'score': test_preds\n",
        "})\n",
        "\n",
        "# Сохраняем в submission.csv\n",
        "submission.to_csv('submission.csv', index=False)\n",
        "print('Файл submission.csv успешно сохранен!')"
      ],
      "metadata": {
        "colab": {
          "base_uri": "https://localhost:8080/"
        },
        "id": "Y6c2kooEMxZR",
        "outputId": "56fa1de8-7189-4252-dd43-7406f747cb0e"
      },
      "execution_count": 8,
      "outputs": [
        {
          "output_type": "stream",
          "name": "stdout",
          "text": [
            "Файл submission.csv успешно сохранен!\n"
          ]
        }
      ]
    }
  ]
}